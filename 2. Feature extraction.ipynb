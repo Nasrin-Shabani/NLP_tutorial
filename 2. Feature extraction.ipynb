{
 "cells": [
  {
   "cell_type": "markdown",
   "id": "343a9583",
   "metadata": {},
   "source": [
    "#  feature extraction using CountVectorizer"
   ]
  },
  {
   "cell_type": "code",
   "execution_count": 3,
   "id": "a16cc6c1",
   "metadata": {},
   "outputs": [
    {
     "name": "stdout",
     "output_type": "stream",
     "text": [
      "Vocabulary:\n",
      " {'ai': 0, 'is': 2, 'the': 5, 'future': 1, 'of': 3, 'technology': 4}\n"
     ]
    }
   ],
   "source": [
    "from sklearn.feature_extraction.text import CountVectorizer\n",
    "\n",
    "# List of text documents\n",
    "text = [\"AI is the future of technology\"]\n",
    "text1 = [\"Football is a popular sport\"]\n",
    "\n",
    "# Initialize the CountVectorizer, it is our \"model\" for converting text data into numerical form\n",
    "vectorizer = CountVectorizer()\n",
    "\n",
    "# Fit the vectorizer to the first document and transform the text\n",
    "#learning the vocabulary and converting the text into a numerical representation (vector).\n",
    "vectorized_text = vectorizer.fit_transform(text)\n",
    "\n",
    "# Print vocabulary after fitting, each word in the text has been assigned a unique index\n",
    "print(\"Vocabulary:\\n\", vectorizer.vocabulary_)"
   ]
  },
  {
   "cell_type": "code",
   "execution_count": 4,
   "id": "b9b6827a",
   "metadata": {},
   "outputs": [
    {
     "name": "stdout",
     "output_type": "stream",
     "text": [
      "\n",
      "Vectorized form of 'text':\n",
      " [[1 1 1 1 1 1]]\n",
      "\n",
      "Vectorized form of 'text1':\n",
      " [[0 0 1 0 0 0]]\n"
     ]
    }
   ],
   "source": [
    "# Transform the second document based on the fitted vectorizer\n",
    "new_vector = vectorizer.transform(text1)\n",
    "\n",
    "# Summarize the original text vector\n",
    "print(\"\\nVectorized form of 'text':\\n\", vectorized_text.toarray())\n",
    "\n",
    "# Summarize the new document vector\n",
    "print(\"\\nVectorized form of 'text1':\\n\", new_vector.toarray())\n"
   ]
  },
  {
   "cell_type": "markdown",
   "id": "7fb63272",
   "metadata": {},
   "source": [
    "fit_transform() is used when you are creating the vocabulary and transforming the text for the first time.\n",
    "\n",
    "transform() is used when the vocabulary has already been created (fitted), and you want to apply that vocabulary to new data without changing it."
   ]
  },
  {
   "cell_type": "markdown",
   "id": "e7cebffd",
   "metadata": {},
   "source": [
    "# TF - IDF\n",
    "TfidfVectorizer is used to convert text data into TF-IDF (Term Frequency-Inverse Document Frequency) features.\n",
    "\n",
    "This method combines term frequency (how often a word appears) and inverse document frequency (how unique the word is across documents) to score words."
   ]
  },
  {
   "cell_type": "code",
   "execution_count": 3,
   "id": "0316f107",
   "metadata": {},
   "outputs": [],
   "source": [
    "from sklearn.feature_extraction.text import TfidfVectorizer\n",
    "text = [\"AI is the future of technology\", \"Football is a popular sport\"]\n"
   ]
  },
  {
   "cell_type": "code",
   "execution_count": 4,
   "id": "30146285",
   "metadata": {},
   "outputs": [
    {
     "data": {
      "text/html": [
       "<style>#sk-container-id-1 {color: black;}#sk-container-id-1 pre{padding: 0;}#sk-container-id-1 div.sk-toggleable {background-color: white;}#sk-container-id-1 label.sk-toggleable__label {cursor: pointer;display: block;width: 100%;margin-bottom: 0;padding: 0.3em;box-sizing: border-box;text-align: center;}#sk-container-id-1 label.sk-toggleable__label-arrow:before {content: \"▸\";float: left;margin-right: 0.25em;color: #696969;}#sk-container-id-1 label.sk-toggleable__label-arrow:hover:before {color: black;}#sk-container-id-1 div.sk-estimator:hover label.sk-toggleable__label-arrow:before {color: black;}#sk-container-id-1 div.sk-toggleable__content {max-height: 0;max-width: 0;overflow: hidden;text-align: left;background-color: #f0f8ff;}#sk-container-id-1 div.sk-toggleable__content pre {margin: 0.2em;color: black;border-radius: 0.25em;background-color: #f0f8ff;}#sk-container-id-1 input.sk-toggleable__control:checked~div.sk-toggleable__content {max-height: 200px;max-width: 100%;overflow: auto;}#sk-container-id-1 input.sk-toggleable__control:checked~label.sk-toggleable__label-arrow:before {content: \"▾\";}#sk-container-id-1 div.sk-estimator input.sk-toggleable__control:checked~label.sk-toggleable__label {background-color: #d4ebff;}#sk-container-id-1 div.sk-label input.sk-toggleable__control:checked~label.sk-toggleable__label {background-color: #d4ebff;}#sk-container-id-1 input.sk-hidden--visually {border: 0;clip: rect(1px 1px 1px 1px);clip: rect(1px, 1px, 1px, 1px);height: 1px;margin: -1px;overflow: hidden;padding: 0;position: absolute;width: 1px;}#sk-container-id-1 div.sk-estimator {font-family: monospace;background-color: #f0f8ff;border: 1px dotted black;border-radius: 0.25em;box-sizing: border-box;margin-bottom: 0.5em;}#sk-container-id-1 div.sk-estimator:hover {background-color: #d4ebff;}#sk-container-id-1 div.sk-parallel-item::after {content: \"\";width: 100%;border-bottom: 1px solid gray;flex-grow: 1;}#sk-container-id-1 div.sk-label:hover label.sk-toggleable__label {background-color: #d4ebff;}#sk-container-id-1 div.sk-serial::before {content: \"\";position: absolute;border-left: 1px solid gray;box-sizing: border-box;top: 0;bottom: 0;left: 50%;z-index: 0;}#sk-container-id-1 div.sk-serial {display: flex;flex-direction: column;align-items: center;background-color: white;padding-right: 0.2em;padding-left: 0.2em;position: relative;}#sk-container-id-1 div.sk-item {position: relative;z-index: 1;}#sk-container-id-1 div.sk-parallel {display: flex;align-items: stretch;justify-content: center;background-color: white;position: relative;}#sk-container-id-1 div.sk-item::before, #sk-container-id-1 div.sk-parallel-item::before {content: \"\";position: absolute;border-left: 1px solid gray;box-sizing: border-box;top: 0;bottom: 0;left: 50%;z-index: -1;}#sk-container-id-1 div.sk-parallel-item {display: flex;flex-direction: column;z-index: 1;position: relative;background-color: white;}#sk-container-id-1 div.sk-parallel-item:first-child::after {align-self: flex-end;width: 50%;}#sk-container-id-1 div.sk-parallel-item:last-child::after {align-self: flex-start;width: 50%;}#sk-container-id-1 div.sk-parallel-item:only-child::after {width: 0;}#sk-container-id-1 div.sk-dashed-wrapped {border: 1px dashed gray;margin: 0 0.4em 0.5em 0.4em;box-sizing: border-box;padding-bottom: 0.4em;background-color: white;}#sk-container-id-1 div.sk-label label {font-family: monospace;font-weight: bold;display: inline-block;line-height: 1.2em;}#sk-container-id-1 div.sk-label-container {text-align: center;}#sk-container-id-1 div.sk-container {/* jupyter's `normalize.less` sets `[hidden] { display: none; }` but bootstrap.min.css set `[hidden] { display: none !important; }` so we also need the `!important` here to be able to override the default hidden behavior on the sphinx rendered scikit-learn.org. See: https://github.com/scikit-learn/scikit-learn/issues/21755 */display: inline-block !important;position: relative;}#sk-container-id-1 div.sk-text-repr-fallback {display: none;}</style><div id=\"sk-container-id-1\" class=\"sk-top-container\"><div class=\"sk-text-repr-fallback\"><pre>TfidfVectorizer()</pre><b>In a Jupyter environment, please rerun this cell to show the HTML representation or trust the notebook. <br />On GitHub, the HTML representation is unable to render, please try loading this page with nbviewer.org.</b></div><div class=\"sk-container\" hidden><div class=\"sk-item\"><div class=\"sk-estimator sk-toggleable\"><input class=\"sk-toggleable__control sk-hidden--visually\" id=\"sk-estimator-id-1\" type=\"checkbox\" checked><label for=\"sk-estimator-id-1\" class=\"sk-toggleable__label sk-toggleable__label-arrow\">TfidfVectorizer</label><div class=\"sk-toggleable__content\"><pre>TfidfVectorizer()</pre></div></div></div></div></div>"
      ],
      "text/plain": [
       "TfidfVectorizer()"
      ]
     },
     "execution_count": 4,
     "metadata": {},
     "output_type": "execute_result"
    }
   ],
   "source": [
    "#tokenize the documents and calculate the TF-IDF values for each word\n",
    "#Fit and build vocabulary\n",
    "vectorizer = TfidfVectorizer()\n",
    "vectorizer.fit(text)\n"
   ]
  },
  {
   "cell_type": "code",
   "execution_count": 5,
   "id": "63283a93",
   "metadata": {},
   "outputs": [
    {
     "name": "stdout",
     "output_type": "stream",
     "text": [
      "Vocabulary:\n",
      " {'ai': 0, 'is': 3, 'the': 8, 'future': 2, 'of': 4, 'technology': 7, 'football': 1, 'popular': 5, 'sport': 6}\n",
      "IDF values:\n",
      " [1.40546511 1.40546511 1.40546511 1.         1.40546511 1.40546511\n",
      " 1.40546511 1.40546511 1.40546511]\n"
     ]
    }
   ],
   "source": [
    "# Print the vocabulary\n",
    "print(\"Vocabulary:\\n\", vectorizer.vocabulary_)\n",
    "\n",
    "# Print the IDF values\n",
    "print(\"IDF values:\\n\", vectorizer.idf_)"
   ]
  },
  {
   "cell_type": "markdown",
   "id": "72f01ede",
   "metadata": {},
   "source": [
    "Index 3 (\"is\"): IDF = 1 (appears in all documents, so IDF is lower)\n"
   ]
  },
  {
   "cell_type": "code",
   "execution_count": 6,
   "id": "aec94733",
   "metadata": {},
   "outputs": [
    {
     "name": "stdout",
     "output_type": "stream",
     "text": [
      "Football is a popular sport\n"
     ]
    }
   ],
   "source": [
    "text_as_input = text[1]\n",
    "print(text_as_input)\n"
   ]
  },
  {
   "cell_type": "code",
   "execution_count": 7,
   "id": "b2788e16",
   "metadata": {},
   "outputs": [],
   "source": [
    "\n",
    "vector = vectorizer.transform([text_as_input])\n"
   ]
  },
  {
   "cell_type": "code",
   "execution_count": 8,
   "id": "2543f050",
   "metadata": {},
   "outputs": [
    {
     "name": "stdout",
     "output_type": "stream",
     "text": [
      "[[0.         0.53404633 0.         0.37997836 0.         0.53404633\n",
      "  0.53404633 0.         0.        ]]\n"
     ]
    }
   ],
   "source": [
    "#The result is a sparse vector where each element corresponds to a word in the vocabulary\n",
    "print(vector.toarray())\n"
   ]
  }
 ],
 "metadata": {
  "kernelspec": {
   "display_name": "Python 3 (ipykernel)",
   "language": "python",
   "name": "python3"
  },
  "language_info": {
   "codemirror_mode": {
    "name": "ipython",
    "version": 3
   },
   "file_extension": ".py",
   "mimetype": "text/x-python",
   "name": "python",
   "nbconvert_exporter": "python",
   "pygments_lexer": "ipython3",
   "version": "3.11.5"
  }
 },
 "nbformat": 4,
 "nbformat_minor": 5
}
